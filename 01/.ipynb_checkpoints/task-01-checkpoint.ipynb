{
 "cells": [
  {
   "cell_type": "code",
   "execution_count": 1,
   "metadata": {
    "_cell_guid": "b1076dfc-b9ad-4769-8c92-a6c4dae69d19",
    "_uuid": "8f2839f25d086af736a60e9eeb907d3b93b6e0e5"
   },
   "outputs": [],
   "source": [
    "import numpy as np\n",
    "import pandas as pd\n",
    "import seaborn as sns\n",
    "import matplotlib.pyplot as plt\n",
    "%matplotlib inline"
   ]
  },
  {
   "cell_type": "code",
   "execution_count": 2,
   "metadata": {
    "_cell_guid": "79c7e3d0-c299-4dcb-8224-4455121ee9b0",
    "_uuid": "d629ff2d2480ee46fbb7e2d37f6b5fab8052498a"
   },
   "outputs": [],
   "source": [
    "# Загружаем данные по оценкам\n",
    "\n",
    "date_parser = lambda x: pd.datetime.strptime(x, \"%d.%m.%Y %H:%M:%S\")\n",
    "rating_data = pd.read_csv('kaggle_data_01.csv', parse_dates=[1], date_parser=date_parser)"
   ]
  },
  {
   "cell_type": "code",
   "execution_count": 3,
   "metadata": {},
   "outputs": [
    {
     "data": {
      "text/html": [
       "<div>\n",
       "<style scoped>\n",
       "    .dataframe tbody tr th:only-of-type {\n",
       "        vertical-align: middle;\n",
       "    }\n",
       "\n",
       "    .dataframe tbody tr th {\n",
       "        vertical-align: top;\n",
       "    }\n",
       "\n",
       "    .dataframe thead th {\n",
       "        text-align: right;\n",
       "    }\n",
       "</style>\n",
       "<table border=\"1\" class=\"dataframe\">\n",
       "  <thead>\n",
       "    <tr style=\"text-align: right;\">\n",
       "      <th></th>\n",
       "      <th>person_id</th>\n",
       "      <th>date</th>\n",
       "      <th>Id</th>\n",
       "      <th>Prediction1</th>\n",
       "    </tr>\n",
       "  </thead>\n",
       "  <tbody>\n",
       "    <tr>\n",
       "      <th>0</th>\n",
       "      <td>person_9</td>\n",
       "      <td>2017-06-02 10:03:36</td>\n",
       "      <td>1</td>\n",
       "      <td>3.0</td>\n",
       "    </tr>\n",
       "    <tr>\n",
       "      <th>1</th>\n",
       "      <td>person_9</td>\n",
       "      <td>2017-06-09 08:34:08</td>\n",
       "      <td>2</td>\n",
       "      <td>3.0</td>\n",
       "    </tr>\n",
       "    <tr>\n",
       "      <th>2</th>\n",
       "      <td>person_9</td>\n",
       "      <td>2017-06-16 10:19:03</td>\n",
       "      <td>3</td>\n",
       "      <td>3.0</td>\n",
       "    </tr>\n",
       "    <tr>\n",
       "      <th>3</th>\n",
       "      <td>person_9</td>\n",
       "      <td>2017-06-23 12:08:57</td>\n",
       "      <td>4</td>\n",
       "      <td>3.0</td>\n",
       "    </tr>\n",
       "    <tr>\n",
       "      <th>4</th>\n",
       "      <td>person_9</td>\n",
       "      <td>2017-06-30 12:48:39</td>\n",
       "      <td>5</td>\n",
       "      <td>4.0</td>\n",
       "    </tr>\n",
       "  </tbody>\n",
       "</table>\n",
       "</div>"
      ],
      "text/plain": [
       "  person_id                date  Id  Prediction1\n",
       "0  person_9 2017-06-02 10:03:36   1          3.0\n",
       "1  person_9 2017-06-09 08:34:08   2          3.0\n",
       "2  person_9 2017-06-16 10:19:03   3          3.0\n",
       "3  person_9 2017-06-23 12:08:57   4          3.0\n",
       "4  person_9 2017-06-30 12:48:39   5          4.0"
      ]
     },
     "execution_count": 3,
     "metadata": {},
     "output_type": "execute_result"
    }
   ],
   "source": [
    "rating_data.head()"
   ]
  },
  {
   "cell_type": "code",
   "execution_count": 4,
   "metadata": {},
   "outputs": [],
   "source": [
    "# разделяем на известные оценки и те, которые надо предсказать\n",
    "\n",
    "rating_known = rating_data[~rating_data['Prediction1'].isna()]\n",
    "rating_unknown = rating_data[rating_data['Prediction1'].isna()]\n",
    "\n",
    "persons = rating_data['person_id'].unique()\n",
    "persons_known = rating_known['person_id'].unique()\n",
    "persons_unknown = rating_unknown['person_id'].unique()"
   ]
  },
  {
   "cell_type": "code",
   "execution_count": 5,
   "metadata": {},
   "outputs": [],
   "source": [
    "# Загружаем данные по фичам\n",
    "\n",
    "date_parser = lambda x: pd.datetime.strptime(x, \"%Y-%m-%d\")\n",
    "action_data = pd.read_csv('kaggle_data_02.csv', header=None, parse_dates=[1], date_parser=date_parser)\n",
    "feature_labels = [x for x in np.arange(action_data.shape[1]-2)]\n",
    "header = ['person_id', 'date'] + feature_labels\n",
    "action_data.columns = header"
   ]
  },
  {
   "cell_type": "code",
   "execution_count": 6,
   "metadata": {},
   "outputs": [
    {
     "data": {
      "text/html": [
       "<div>\n",
       "<style scoped>\n",
       "    .dataframe tbody tr th:only-of-type {\n",
       "        vertical-align: middle;\n",
       "    }\n",
       "\n",
       "    .dataframe tbody tr th {\n",
       "        vertical-align: top;\n",
       "    }\n",
       "\n",
       "    .dataframe thead th {\n",
       "        text-align: right;\n",
       "    }\n",
       "</style>\n",
       "<table border=\"1\" class=\"dataframe\">\n",
       "  <thead>\n",
       "    <tr style=\"text-align: right;\">\n",
       "      <th></th>\n",
       "      <th>person_id</th>\n",
       "      <th>date</th>\n",
       "      <th>0</th>\n",
       "      <th>1</th>\n",
       "      <th>2</th>\n",
       "      <th>3</th>\n",
       "      <th>4</th>\n",
       "      <th>5</th>\n",
       "      <th>6</th>\n",
       "      <th>7</th>\n",
       "      <th>...</th>\n",
       "      <th>456</th>\n",
       "      <th>457</th>\n",
       "      <th>458</th>\n",
       "      <th>459</th>\n",
       "      <th>460</th>\n",
       "      <th>461</th>\n",
       "      <th>462</th>\n",
       "      <th>463</th>\n",
       "      <th>464</th>\n",
       "      <th>465</th>\n",
       "    </tr>\n",
       "  </thead>\n",
       "  <tbody>\n",
       "    <tr>\n",
       "      <th>0</th>\n",
       "      <td>person_1</td>\n",
       "      <td>2017-06-01</td>\n",
       "      <td>0.0</td>\n",
       "      <td>0.0</td>\n",
       "      <td>0.0</td>\n",
       "      <td>0.0</td>\n",
       "      <td>0.0</td>\n",
       "      <td>0.0</td>\n",
       "      <td>0.0</td>\n",
       "      <td>0.0</td>\n",
       "      <td>...</td>\n",
       "      <td>0.0</td>\n",
       "      <td>0.0</td>\n",
       "      <td>0.0</td>\n",
       "      <td>0.0</td>\n",
       "      <td>0.0</td>\n",
       "      <td>0.0</td>\n",
       "      <td>0.0</td>\n",
       "      <td>0.0</td>\n",
       "      <td>0.0</td>\n",
       "      <td>0.0</td>\n",
       "    </tr>\n",
       "    <tr>\n",
       "      <th>1</th>\n",
       "      <td>person_1</td>\n",
       "      <td>2017-06-02</td>\n",
       "      <td>29.0</td>\n",
       "      <td>12.0</td>\n",
       "      <td>37.0</td>\n",
       "      <td>32.0</td>\n",
       "      <td>128.0</td>\n",
       "      <td>16.0</td>\n",
       "      <td>2.0</td>\n",
       "      <td>15.0</td>\n",
       "      <td>...</td>\n",
       "      <td>16.0</td>\n",
       "      <td>0.0</td>\n",
       "      <td>57.0</td>\n",
       "      <td>15.0</td>\n",
       "      <td>16.0</td>\n",
       "      <td>3.0</td>\n",
       "      <td>0.0</td>\n",
       "      <td>21.0</td>\n",
       "      <td>7.0</td>\n",
       "      <td>10.0</td>\n",
       "    </tr>\n",
       "    <tr>\n",
       "      <th>2</th>\n",
       "      <td>person_1</td>\n",
       "      <td>2017-06-03</td>\n",
       "      <td>10.0</td>\n",
       "      <td>4.0</td>\n",
       "      <td>10.0</td>\n",
       "      <td>8.0</td>\n",
       "      <td>34.0</td>\n",
       "      <td>4.0</td>\n",
       "      <td>1.0</td>\n",
       "      <td>4.0</td>\n",
       "      <td>...</td>\n",
       "      <td>4.0</td>\n",
       "      <td>0.0</td>\n",
       "      <td>11.0</td>\n",
       "      <td>4.0</td>\n",
       "      <td>4.0</td>\n",
       "      <td>1.0</td>\n",
       "      <td>2.0</td>\n",
       "      <td>19.0</td>\n",
       "      <td>6.0</td>\n",
       "      <td>6.0</td>\n",
       "    </tr>\n",
       "    <tr>\n",
       "      <th>3</th>\n",
       "      <td>person_1</td>\n",
       "      <td>2017-06-04</td>\n",
       "      <td>3.0</td>\n",
       "      <td>3.0</td>\n",
       "      <td>3.0</td>\n",
       "      <td>6.0</td>\n",
       "      <td>40.0</td>\n",
       "      <td>3.0</td>\n",
       "      <td>1.0</td>\n",
       "      <td>3.0</td>\n",
       "      <td>...</td>\n",
       "      <td>3.0</td>\n",
       "      <td>0.0</td>\n",
       "      <td>6.0</td>\n",
       "      <td>3.0</td>\n",
       "      <td>3.0</td>\n",
       "      <td>0.0</td>\n",
       "      <td>1.0</td>\n",
       "      <td>16.0</td>\n",
       "      <td>4.0</td>\n",
       "      <td>4.0</td>\n",
       "    </tr>\n",
       "    <tr>\n",
       "      <th>4</th>\n",
       "      <td>person_1</td>\n",
       "      <td>2017-06-05</td>\n",
       "      <td>4.0</td>\n",
       "      <td>3.0</td>\n",
       "      <td>12.0</td>\n",
       "      <td>11.0</td>\n",
       "      <td>62.0</td>\n",
       "      <td>4.0</td>\n",
       "      <td>1.0</td>\n",
       "      <td>4.0</td>\n",
       "      <td>...</td>\n",
       "      <td>4.0</td>\n",
       "      <td>0.0</td>\n",
       "      <td>17.0</td>\n",
       "      <td>4.0</td>\n",
       "      <td>4.0</td>\n",
       "      <td>2.0</td>\n",
       "      <td>2.0</td>\n",
       "      <td>20.0</td>\n",
       "      <td>6.0</td>\n",
       "      <td>7.0</td>\n",
       "    </tr>\n",
       "  </tbody>\n",
       "</table>\n",
       "<p>5 rows × 468 columns</p>\n",
       "</div>"
      ],
      "text/plain": [
       "  person_id       date     0     1     2     3      4     5    6     7  ...   \\\n",
       "0  person_1 2017-06-01   0.0   0.0   0.0   0.0    0.0   0.0  0.0   0.0  ...    \n",
       "1  person_1 2017-06-02  29.0  12.0  37.0  32.0  128.0  16.0  2.0  15.0  ...    \n",
       "2  person_1 2017-06-03  10.0   4.0  10.0   8.0   34.0   4.0  1.0   4.0  ...    \n",
       "3  person_1 2017-06-04   3.0   3.0   3.0   6.0   40.0   3.0  1.0   3.0  ...    \n",
       "4  person_1 2017-06-05   4.0   3.0  12.0  11.0   62.0   4.0  1.0   4.0  ...    \n",
       "\n",
       "    456  457   458   459   460  461  462   463  464   465  \n",
       "0   0.0  0.0   0.0   0.0   0.0  0.0  0.0   0.0  0.0   0.0  \n",
       "1  16.0  0.0  57.0  15.0  16.0  3.0  0.0  21.0  7.0  10.0  \n",
       "2   4.0  0.0  11.0   4.0   4.0  1.0  2.0  19.0  6.0   6.0  \n",
       "3   3.0  0.0   6.0   3.0   3.0  0.0  1.0  16.0  4.0   4.0  \n",
       "4   4.0  0.0  17.0   4.0   4.0  2.0  2.0  20.0  6.0   7.0  \n",
       "\n",
       "[5 rows x 468 columns]"
      ]
     },
     "execution_count": 6,
     "metadata": {},
     "output_type": "execute_result"
    }
   ],
   "source": [
    "action_data.head()"
   ]
  },
  {
   "cell_type": "markdown",
   "metadata": {},
   "source": [
    "---\n",
    "### Выборка за заданный интервал времени"
   ]
  },
  {
   "cell_type": "code",
   "execution_count": 1,
   "metadata": {},
   "outputs": [],
   "source": [
    "# данные фич за заданный интервал времени\n",
    "\n",
    "def get_range_data(df, start_date, end_date):\n",
    "    mask = (df['date'] > start_date) & (df['date'] < end_date)\n",
    "    return df[mask]"
   ]
  },
  {
   "cell_type": "code",
   "execution_count": 103,
   "metadata": {},
   "outputs": [],
   "source": [
    "# данные фич по пользователю за заданный интервал времени\n",
    "\n",
    "def get_range_data_by_person(data, person, start_date, end_date):\n",
    "    df = data[data['person_id'] == person]\n",
    "    mask = (df['date'] > start_date) & (df['date'] < end_date)\n",
    "    return df[mask]"
   ]
  },
  {
   "cell_type": "markdown",
   "metadata": {},
   "source": [
    "---\n",
    "### Пропущенные значения"
   ]
  },
  {
   "cell_type": "code",
   "execution_count": 7,
   "metadata": {},
   "outputs": [
    {
     "data": {
      "image/png": "[encoded data removed]",
      "text/plain": [
       "<Figure size 1800x720 with 2 Axes>"
      ]
     },
     "metadata": {
      "needs_background": "light"
     },
     "output_type": "display_data"
    }
   ],
   "source": [
    "# Посмотрим в разрезе всех данных на пропуски\n",
    "\n",
    "import missingno as msno\n",
    "\n",
    "msno.matrix(action_data);"
   ]
  },
  {
   "cell_type": "code",
   "execution_count": 2,
   "metadata": {},
   "outputs": [],
   "source": [
    "# Считаем пропущенные данные по столбцам\n",
    "\n",
    "def missing_by_column(df, name):\n",
    "    mis_val = df.isnull().sum().sort_values(ascending=False)\n",
    "    mis_val = mis_val / df.shape[0] * 100\n",
    "    mis_table = pd.DataFrame(round(mis_val, 1))\n",
    "    mis_table = mis_table.rename(columns = {0 : name})\n",
    "    mis_table = mis_table[mis_table[name] != 0]\n",
    "    return mis_table.reset_index()"
   ]
  },
  {
   "cell_type": "code",
   "execution_count": null,
   "metadata": {},
   "outputs": [],
   "source": [
    "def missing_by_range(df, name, start_date, end_date):\n",
    "    return missing_by_column(get_range_data(df, start_date, end_date), name)"
   ]
  },
  {
   "cell_type": "code",
   "execution_count": 9,
   "metadata": {},
   "outputs": [],
   "source": [
    "# Считаем пропущенные данные по строкам\n",
    "\n",
    "def missing_by_row(df, name):\n",
    "    mis_val = df.isnull().sum(axis=1).sort_values(ascending=False)\n",
    "    mis_val = mis_val / df.shape[1] * 100\n",
    "    mis_table = pd.DataFrame(round(mis_val, 1))\n",
    "    mis_table = mis_table.rename(columns = {0 : name})\n",
    "    mis_table = mis_table[mis_table[name] != 0]\n",
    "    return mis_table.reset_index()"
   ]
  },
  {
   "cell_type": "code",
   "execution_count": 10,
   "metadata": {},
   "outputs": [],
   "source": [
    "# Объединяем в одну таблицу проценты пропусков данных по фичам для каждого пользователя\n",
    "# Возвращаем DataFrame с процентами пропусков выше заданного percent с разбивкой по фиче и пользователю\n",
    "\n",
    "def missing_by_person(df, persons, percent):\n",
    "    table = pd.DataFrame(data={'index': []})\n",
    "    for person in persons:\n",
    "        mis_table = missing_by_column(df[df['person_id'] == person], person)\n",
    "        if not mis_table.empty:\n",
    "            table = table.merge(mis_table, on='index', how='outer')\n",
    "    table.set_index('index', inplace=True)\n",
    "    table = table[table > percent].dropna(how='all').fillna(0)\n",
    "    return table"
   ]
  },
  {
   "cell_type": "code",
   "execution_count": 11,
   "metadata": {},
   "outputs": [
    {
     "data": {
      "image/png": "[encoded data removed]",
      "text/plain": [
       "<Figure size 432x288 with 2 Axes>"
      ]
     },
     "metadata": {
      "needs_background": "light"
     },
     "output_type": "display_data"
    }
   ],
   "source": [
    "# Выделяем фичи, по которым больше всего пропусков для каждого пользователя.\n",
    "# Может в дальнейшем вообще уберем их. Надо смотреть на вес конкретной фичи в результате.\n",
    "\n",
    "# Пример, когда для пользователя по фиче пропущено больше 10%\n",
    "\n",
    "sns.heatmap(missing_by_person(action_data, persons, percent=10))\n",
    "plt.show()"
   ]
  },
  {
   "cell_type": "code",
   "execution_count": 12,
   "metadata": {},
   "outputs": [],
   "source": [
    "# Удаляем пропуски в данных по заданному проценту пропусков\n",
    "# percent - процент, выше которого удаляем\n",
    "# num - количество пользователей, у которых процент по одной и той же фиче выше заданного\n",
    "\n",
    "def drop_missing_values(df, persons, percent=50, num=2, inplace=False):\n",
    "    missing = missing_by_person(df, persons, percent)\n",
    "    fields_drop = missing[missing[missing > percent].count(axis=1) > num].index.values\n",
    "    return df.drop(columns=fields_drop, inplace=inplace)"
   ]
  },
  {
   "cell_type": "code",
   "execution_count": 13,
   "metadata": {},
   "outputs": [],
   "source": [
    "# Заполняем пропуски в данных заданным значением\n",
    "# kind - определяет, каким образом заполняем пропуски\n",
    "\n",
    "def fill_missing_values(df, kind='mean', inplace=False):\n",
    "    func = {'mean': np.mean, 'median': np.median}\n",
    "    return df.fillna(func[kind](df), inplace=inplace)"
   ]
  },
  {
   "cell_type": "markdown",
   "metadata": {},
   "source": [
    "---\n",
    "### Корреляция"
   ]
  },
  {
   "cell_type": "code",
   "execution_count": 60,
   "metadata": {},
   "outputs": [],
   "source": [
    "# Посмотрим на корреляцию. Используем корреляцию Спирмена, так как в нашшем случае фичи - ранговые величины.\n",
    "\n",
    "action_data_corr = action_data.corr(method='spearman')"
   ]
  },
  {
   "cell_type": "code",
   "execution_count": 80,
   "metadata": {},
   "outputs": [
    {
     "data": {
      "image/png": "[encoded data removed]",
      "text/plain": [
       "<Figure size 504x504 with 1 Axes>"
      ]
     },
     "metadata": {
      "needs_background": "light"
     },
     "output_type": "display_data"
    }
   ],
   "source": [
    "# Много кокоррелированных данных.\n",
    "\n",
    "plt.figure(figsize=(7, 7))\n",
    "plt.matshow(action_data_corr, fignum=1);"
   ]
  },
  {
   "cell_type": "code",
   "execution_count": 63,
   "metadata": {},
   "outputs": [
    {
     "data": {
      "text/plain": [
       "[]"
      ]
     },
     "execution_count": 63,
     "metadata": {},
     "output_type": "execute_result"
    }
   ],
   "source": [
    "# Возможен случай, когда коэффициента корреляции нет. Это значит, что в данные поля скорее всего заполнены\n",
    "# только одним одинаковым значением и их можно опустить при анализе. Проверим.\n",
    "\n",
    "[i for i in action_data_corr if action_data_corr[i].isnull().drop_duplicates().values[0]]"
   ]
  },
  {
   "cell_type": "code",
   "execution_count": 66,
   "metadata": {},
   "outputs": [],
   "source": [
    "# Найдем поля, по которым коэффициент корреляции больше заданного значения.\n",
    "\n",
    "def corr_by_column(df, corr_val, name='feature'):\n",
    "    df_corr = df.corr(method='spearman')\n",
    "    field_corr = []\n",
    "    for i in df_corr:\n",
    "        for j in df_corr.index[df_corr[i] > corr_val]:\n",
    "            if i != j and j not in field_corr and i not in field_corr:\n",
    "                field_corr.append(j)\n",
    "    corr_table = pd.DataFrame(field_corr)\n",
    "    corr_table = corr_table.rename(columns = {0 : name})\n",
    "    return corr_table.reset_index()"
   ]
  },
  {
   "cell_type": "code",
   "execution_count": 67,
   "metadata": {},
   "outputs": [],
   "source": [
    "# Объединяем в одну таблицу поля, по которым коэффициент корреляции больше заданного значения, для каждого пользователя\n",
    "# Возвращаем DataFrame со списком фич по каждому пользователю\n",
    "\n",
    "def corr_by_person(df, persons, corr_val):\n",
    "    table = pd.DataFrame(data={'index': []})\n",
    "    for person in persons:\n",
    "        corr_table = corr_by_column(df[df['person_id'] == person], corr_val, person)\n",
    "        if not corr_table.empty:\n",
    "            table = table.merge(corr_table, on='index', how='outer')\n",
    "    table.set_index('index', inplace=True)\n",
    "    #table = table[table > percent].dropna(how='all').fillna(0)\n",
    "    return table"
   ]
  },
  {
   "cell_type": "code",
   "execution_count": 68,
   "metadata": {},
   "outputs": [],
   "source": [
    "# Удаляем поля, у которых коэффициент корреляции больше заданного значения.\n",
    "\n",
    "def drop_corr_values(df, corr_val=0.9, inplace=False):\n",
    "    return df.drop(corr_by_column(df, corr_val), axis=1, inplace=inplace)"
   ]
  },
  {
   "cell_type": "markdown",
   "metadata": {},
   "source": [
    "---\n",
    "### Значения, по которым не нужно оценок, и оценки, по которым нет исходных данных"
   ]
  },
  {
   "cell_type": "code",
   "execution_count": 69,
   "metadata": {},
   "outputs": [
    {
     "data": {
      "text/html": [
       "<div>\n",
       "<style scoped>\n",
       "    .dataframe tbody tr th:only-of-type {\n",
       "        vertical-align: middle;\n",
       "    }\n",
       "\n",
       "    .dataframe tbody tr th {\n",
       "        vertical-align: top;\n",
       "    }\n",
       "\n",
       "    .dataframe thead th {\n",
       "        text-align: right;\n",
       "    }\n",
       "</style>\n",
       "<table border=\"1\" class=\"dataframe\">\n",
       "  <thead>\n",
       "    <tr style=\"text-align: right;\">\n",
       "      <th></th>\n",
       "      <th>person_id</th>\n",
       "      <th>date_rating_min</th>\n",
       "      <th>date_rating_max</th>\n",
       "      <th>date_action_min</th>\n",
       "      <th>date_action_max</th>\n",
       "    </tr>\n",
       "  </thead>\n",
       "  <tbody>\n",
       "    <tr>\n",
       "      <th>0</th>\n",
       "      <td>person_1</td>\n",
       "      <td>2017-05-26 18:29:57</td>\n",
       "      <td>2017-11-24 17:05:24</td>\n",
       "      <td>2017-06-01</td>\n",
       "      <td>2017-11-30</td>\n",
       "    </tr>\n",
       "    <tr>\n",
       "      <th>1</th>\n",
       "      <td>person_10</td>\n",
       "      <td>2017-06-09 08:40:30</td>\n",
       "      <td>2017-11-23 17:20:18</td>\n",
       "      <td>2017-06-01</td>\n",
       "      <td>2017-11-30</td>\n",
       "    </tr>\n",
       "    <tr>\n",
       "      <th>2</th>\n",
       "      <td>person_11</td>\n",
       "      <td>2017-06-02 15:13:35</td>\n",
       "      <td>2017-12-02 10:24:11</td>\n",
       "      <td>2017-06-01</td>\n",
       "      <td>2017-11-30</td>\n",
       "    </tr>\n",
       "    <tr>\n",
       "      <th>3</th>\n",
       "      <td>person_12</td>\n",
       "      <td>2017-06-02 09:40:41</td>\n",
       "      <td>2017-11-24 14:43:05</td>\n",
       "      <td>2017-06-01</td>\n",
       "      <td>2017-11-30</td>\n",
       "    </tr>\n",
       "    <tr>\n",
       "      <th>4</th>\n",
       "      <td>person_13</td>\n",
       "      <td>2017-06-02 20:14:19</td>\n",
       "      <td>2017-12-01 14:14:05</td>\n",
       "      <td>2017-06-01</td>\n",
       "      <td>2017-11-30</td>\n",
       "    </tr>\n",
       "    <tr>\n",
       "      <th>5</th>\n",
       "      <td>person_2</td>\n",
       "      <td>2017-06-02 15:56:41</td>\n",
       "      <td>2017-12-01 14:04:21</td>\n",
       "      <td>2017-06-01</td>\n",
       "      <td>2017-11-30</td>\n",
       "    </tr>\n",
       "    <tr>\n",
       "      <th>6</th>\n",
       "      <td>person_3</td>\n",
       "      <td>2017-06-02 18:49:14</td>\n",
       "      <td>2017-12-01 16:20:45</td>\n",
       "      <td>2017-06-01</td>\n",
       "      <td>2017-11-30</td>\n",
       "    </tr>\n",
       "    <tr>\n",
       "      <th>7</th>\n",
       "      <td>person_4</td>\n",
       "      <td>2017-06-09 15:04:22</td>\n",
       "      <td>2017-12-01 17:26:10</td>\n",
       "      <td>2017-06-01</td>\n",
       "      <td>2017-11-30</td>\n",
       "    </tr>\n",
       "    <tr>\n",
       "      <th>8</th>\n",
       "      <td>person_5</td>\n",
       "      <td>2017-06-02 15:14:58</td>\n",
       "      <td>2017-11-24 05:17:24</td>\n",
       "      <td>2017-06-01</td>\n",
       "      <td>2017-11-30</td>\n",
       "    </tr>\n",
       "    <tr>\n",
       "      <th>9</th>\n",
       "      <td>person_6</td>\n",
       "      <td>2017-06-09 12:19:35</td>\n",
       "      <td>2017-12-03 15:02:50</td>\n",
       "      <td>2017-06-01</td>\n",
       "      <td>2017-11-30</td>\n",
       "    </tr>\n",
       "    <tr>\n",
       "      <th>10</th>\n",
       "      <td>person_7</td>\n",
       "      <td>2017-06-02 16:51:14</td>\n",
       "      <td>2017-11-24 09:20:03</td>\n",
       "      <td>2017-06-01</td>\n",
       "      <td>2017-11-30</td>\n",
       "    </tr>\n",
       "    <tr>\n",
       "      <th>11</th>\n",
       "      <td>person_8</td>\n",
       "      <td>2017-06-02 16:54:11</td>\n",
       "      <td>2017-11-24 18:57:56</td>\n",
       "      <td>2017-06-01</td>\n",
       "      <td>2017-11-30</td>\n",
       "    </tr>\n",
       "    <tr>\n",
       "      <th>12</th>\n",
       "      <td>person_9</td>\n",
       "      <td>2017-06-02 10:03:36</td>\n",
       "      <td>2017-11-24 04:21:09</td>\n",
       "      <td>2017-06-01</td>\n",
       "      <td>2017-11-30</td>\n",
       "    </tr>\n",
       "  </tbody>\n",
       "</table>\n",
       "</div>"
      ],
      "text/plain": [
       "    person_id     date_rating_min     date_rating_max date_action_min  \\\n",
       "0    person_1 2017-05-26 18:29:57 2017-11-24 17:05:24      2017-06-01   \n",
       "1   person_10 2017-06-09 08:40:30 2017-11-23 17:20:18      2017-06-01   \n",
       "2   person_11 2017-06-02 15:13:35 2017-12-02 10:24:11      2017-06-01   \n",
       "3   person_12 2017-06-02 09:40:41 2017-11-24 14:43:05      2017-06-01   \n",
       "4   person_13 2017-06-02 20:14:19 2017-12-01 14:14:05      2017-06-01   \n",
       "5    person_2 2017-06-02 15:56:41 2017-12-01 14:04:21      2017-06-01   \n",
       "6    person_3 2017-06-02 18:49:14 2017-12-01 16:20:45      2017-06-01   \n",
       "7    person_4 2017-06-09 15:04:22 2017-12-01 17:26:10      2017-06-01   \n",
       "8    person_5 2017-06-02 15:14:58 2017-11-24 05:17:24      2017-06-01   \n",
       "9    person_6 2017-06-09 12:19:35 2017-12-03 15:02:50      2017-06-01   \n",
       "10   person_7 2017-06-02 16:51:14 2017-11-24 09:20:03      2017-06-01   \n",
       "11   person_8 2017-06-02 16:54:11 2017-11-24 18:57:56      2017-06-01   \n",
       "12   person_9 2017-06-02 10:03:36 2017-11-24 04:21:09      2017-06-01   \n",
       "\n",
       "   date_action_max  \n",
       "0       2017-11-30  \n",
       "1       2017-11-30  \n",
       "2       2017-11-30  \n",
       "3       2017-11-30  \n",
       "4       2017-11-30  \n",
       "5       2017-11-30  \n",
       "6       2017-11-30  \n",
       "7       2017-11-30  \n",
       "8       2017-11-30  \n",
       "9       2017-11-30  \n",
       "10      2017-11-30  \n",
       "11      2017-11-30  \n",
       "12      2017-11-30  "
      ]
     },
     "execution_count": 69,
     "metadata": {},
     "output_type": "execute_result"
    }
   ],
   "source": [
    "# Посмотрим, есть ли в наборе оценок те, по которым нет данных для предсказания\n",
    "# А также, есть ли данные, по которым не надо предсказывать\n",
    "\n",
    "rating_dates = rating_data.groupby(['person_id']).agg({'date' : ['min', 'max']})\n",
    "action_dates = action_data.groupby(['person_id']).agg({'date' : ['min', 'max']})\n",
    "\n",
    "merge_dates = rating_dates.merge(action_dates, on='person_id', suffixes=('_rating', '_action'))\n",
    "merge_dates.columns = [\"_\".join(x) for x in merge_dates.columns.ravel()]\n",
    "merge_dates.reset_index(inplace=True)\n",
    "merge_dates"
   ]
  },
  {
   "cell_type": "code",
   "execution_count": 70,
   "metadata": {},
   "outputs": [],
   "source": [
    "# Выбираем эти строки\n",
    "\n",
    "rating_drop = merge_dates[merge_dates['date_rating_min'] < merge_dates['date_action_min']]\n",
    "action_drop = merge_dates[merge_dates['date_rating_max'] < merge_dates['date_action_max']]"
   ]
  },
  {
   "cell_type": "code",
   "execution_count": 71,
   "metadata": {},
   "outputs": [
    {
     "data": {
      "text/html": [
       "<div>\n",
       "<style scoped>\n",
       "    .dataframe tbody tr th:only-of-type {\n",
       "        vertical-align: middle;\n",
       "    }\n",
       "\n",
       "    .dataframe tbody tr th {\n",
       "        vertical-align: top;\n",
       "    }\n",
       "\n",
       "    .dataframe thead th {\n",
       "        text-align: right;\n",
       "    }\n",
       "</style>\n",
       "<table border=\"1\" class=\"dataframe\">\n",
       "  <thead>\n",
       "    <tr style=\"text-align: right;\">\n",
       "      <th></th>\n",
       "      <th>person_id</th>\n",
       "      <th>date_rating_min</th>\n",
       "      <th>date_rating_max</th>\n",
       "      <th>date_action_min</th>\n",
       "      <th>date_action_max</th>\n",
       "    </tr>\n",
       "  </thead>\n",
       "  <tbody>\n",
       "    <tr>\n",
       "      <th>0</th>\n",
       "      <td>person_1</td>\n",
       "      <td>2017-05-26 18:29:57</td>\n",
       "      <td>2017-11-24 17:05:24</td>\n",
       "      <td>2017-06-01</td>\n",
       "      <td>2017-11-30</td>\n",
       "    </tr>\n",
       "  </tbody>\n",
       "</table>\n",
       "</div>"
      ],
      "text/plain": [
       "  person_id     date_rating_min     date_rating_max date_action_min  \\\n",
       "0  person_1 2017-05-26 18:29:57 2017-11-24 17:05:24      2017-06-01   \n",
       "\n",
       "  date_action_max  \n",
       "0      2017-11-30  "
      ]
     },
     "execution_count": 71,
     "metadata": {},
     "output_type": "execute_result"
    }
   ],
   "source": [
    "# По person_1 есть \"лишняя\" оценка до сбора показаний поведения\n",
    "\n",
    "rating_drop"
   ]
  },
  {
   "cell_type": "code",
   "execution_count": 72,
   "metadata": {},
   "outputs": [
    {
     "data": {
      "text/html": [
       "<div>\n",
       "<style scoped>\n",
       "    .dataframe tbody tr th:only-of-type {\n",
       "        vertical-align: middle;\n",
       "    }\n",
       "\n",
       "    .dataframe tbody tr th {\n",
       "        vertical-align: top;\n",
       "    }\n",
       "\n",
       "    .dataframe thead th {\n",
       "        text-align: right;\n",
       "    }\n",
       "</style>\n",
       "<table border=\"1\" class=\"dataframe\">\n",
       "  <thead>\n",
       "    <tr style=\"text-align: right;\">\n",
       "      <th></th>\n",
       "      <th>person_id</th>\n",
       "      <th>date_rating_min</th>\n",
       "      <th>date_rating_max</th>\n",
       "      <th>date_action_min</th>\n",
       "      <th>date_action_max</th>\n",
       "    </tr>\n",
       "  </thead>\n",
       "  <tbody>\n",
       "    <tr>\n",
       "      <th>0</th>\n",
       "      <td>person_1</td>\n",
       "      <td>2017-05-26 18:29:57</td>\n",
       "      <td>2017-11-24 17:05:24</td>\n",
       "      <td>2017-06-01</td>\n",
       "      <td>2017-11-30</td>\n",
       "    </tr>\n",
       "    <tr>\n",
       "      <th>1</th>\n",
       "      <td>person_10</td>\n",
       "      <td>2017-06-09 08:40:30</td>\n",
       "      <td>2017-11-23 17:20:18</td>\n",
       "      <td>2017-06-01</td>\n",
       "      <td>2017-11-30</td>\n",
       "    </tr>\n",
       "    <tr>\n",
       "      <th>3</th>\n",
       "      <td>person_12</td>\n",
       "      <td>2017-06-02 09:40:41</td>\n",
       "      <td>2017-11-24 14:43:05</td>\n",
       "      <td>2017-06-01</td>\n",
       "      <td>2017-11-30</td>\n",
       "    </tr>\n",
       "    <tr>\n",
       "      <th>8</th>\n",
       "      <td>person_5</td>\n",
       "      <td>2017-06-02 15:14:58</td>\n",
       "      <td>2017-11-24 05:17:24</td>\n",
       "      <td>2017-06-01</td>\n",
       "      <td>2017-11-30</td>\n",
       "    </tr>\n",
       "    <tr>\n",
       "      <th>10</th>\n",
       "      <td>person_7</td>\n",
       "      <td>2017-06-02 16:51:14</td>\n",
       "      <td>2017-11-24 09:20:03</td>\n",
       "      <td>2017-06-01</td>\n",
       "      <td>2017-11-30</td>\n",
       "    </tr>\n",
       "    <tr>\n",
       "      <th>11</th>\n",
       "      <td>person_8</td>\n",
       "      <td>2017-06-02 16:54:11</td>\n",
       "      <td>2017-11-24 18:57:56</td>\n",
       "      <td>2017-06-01</td>\n",
       "      <td>2017-11-30</td>\n",
       "    </tr>\n",
       "    <tr>\n",
       "      <th>12</th>\n",
       "      <td>person_9</td>\n",
       "      <td>2017-06-02 10:03:36</td>\n",
       "      <td>2017-11-24 04:21:09</td>\n",
       "      <td>2017-06-01</td>\n",
       "      <td>2017-11-30</td>\n",
       "    </tr>\n",
       "  </tbody>\n",
       "</table>\n",
       "</div>"
      ],
      "text/plain": [
       "    person_id     date_rating_min     date_rating_max date_action_min  \\\n",
       "0    person_1 2017-05-26 18:29:57 2017-11-24 17:05:24      2017-06-01   \n",
       "1   person_10 2017-06-09 08:40:30 2017-11-23 17:20:18      2017-06-01   \n",
       "3   person_12 2017-06-02 09:40:41 2017-11-24 14:43:05      2017-06-01   \n",
       "8    person_5 2017-06-02 15:14:58 2017-11-24 05:17:24      2017-06-01   \n",
       "10   person_7 2017-06-02 16:51:14 2017-11-24 09:20:03      2017-06-01   \n",
       "11   person_8 2017-06-02 16:54:11 2017-11-24 18:57:56      2017-06-01   \n",
       "12   person_9 2017-06-02 10:03:36 2017-11-24 04:21:09      2017-06-01   \n",
       "\n",
       "   date_action_max  \n",
       "0       2017-11-30  \n",
       "1       2017-11-30  \n",
       "3       2017-11-30  \n",
       "8       2017-11-30  \n",
       "10      2017-11-30  \n",
       "11      2017-11-30  \n",
       "12      2017-11-30  "
      ]
     },
     "execution_count": 72,
     "metadata": {},
     "output_type": "execute_result"
    }
   ],
   "source": [
    "# По person_1, person_10, person_12, person_5, person_7, person_8, person_9 \n",
    "# есть \"лишние\" записи действий пользователей (по ним не надо строить предсказание, либо оценки нет)\n",
    "\n",
    "action_drop"
   ]
  },
  {
   "cell_type": "code",
   "execution_count": 74,
   "metadata": {},
   "outputs": [],
   "source": [
    "# Удаляем запись person_1 с \"лишней\" оценкой поведения\n",
    "\n",
    "def drop_extra_rating(df, df_drop, inplace=False):\n",
    "    for i, row in df_drop.iterrows():\n",
    "        index = df[(df['person_id'] == row['person_id']) & (df['date'] < row['date_action_min'])].index\n",
    "        df.drop(index=index, inplace=inplace)\n",
    "    return df"
   ]
  },
  {
   "cell_type": "code",
   "execution_count": 75,
   "metadata": {},
   "outputs": [],
   "source": [
    "# Удаляем записи person_1, person_10, person_12, person_5, person_7, person_8, person_9\n",
    "# с \"лишними\" записями действий пользователей (по ним не надо строить предсказание, либо оценки нет)\n",
    "\n",
    "def drop_extra_action(df, df_drop, inplace=False):\n",
    "    for i, row in df_drop.iterrows():\n",
    "        index = df[(df['person_id'] == row['person_id']) & (df['date'] > row['date_rating_max'])].index\n",
    "        df.drop(index=index, inplace=inplace)\n",
    "    return df"
   ]
  },
  {
   "cell_type": "markdown",
   "metadata": {},
   "source": [
    "---\n",
    "### Нормировка"
   ]
  },
  {
   "cell_type": "code",
   "execution_count": 89,
   "metadata": {},
   "outputs": [],
   "source": [
    "from sklearn.preprocessing import StandardScaler\n",
    "\n",
    "def scaler(df, feature_labels):\n",
    "    scaler_data = df[feature_labels]\n",
    "    scaler = StandardScaler()\n",
    "    scaler_data = pd.DataFrame(scaler.fit_transform(scaler_data), columns=feature_labels)\n",
    "    scaler_data['person_id'] = df['person_id']\n",
    "    scaler_data['date'] = df['date']\n",
    "    return scaler_data"
   ]
  },
  {
   "cell_type": "markdown",
   "metadata": {},
   "source": [
    "---\n",
    "### Запись результатов в файл"
   ]
  },
  {
   "cell_type": "code",
   "execution_count": 88,
   "metadata": {},
   "outputs": [],
   "source": [
    "def answer_to_file(predicted, Ids, file_name):\n",
    "    df_answer = pd.DataFrame(data=Ids, columns=['Id'])\n",
    "    df_answer['Prediction1'] = predicted\n",
    "    df_answer.to_csv(file_name, index=False)"
   ]
  },
  {
   "cell_type": "markdown",
   "metadata": {},
   "source": [
    "---\n",
    "### Обработка и подготовка данных"
   ]
  },
  {
   "cell_type": "code",
   "execution_count": 104,
   "metadata": {},
   "outputs": [],
   "source": [
    "# Обрабоатывам данные заданной функцией\n",
    "# kind - определяет, какой функцией\n",
    "\n",
    "def apply_func_data(df, kind='mean'):\n",
    "    func = {'mean': np.mean, 'median': np.median}\n",
    "    return df.apply(func[kind])"
   ]
  },
  {
   "cell_type": "code",
   "execution_count": null,
   "metadata": {},
   "outputs": [],
   "source": [
    "# Здесь готовим данные для выставленной оценки с учетом поведения за выбранный интервал для каждого поля в таблице оценок\n",
    "\n",
    "def func_for_rating(rating, action, labels, delta='7 days', kind='mean'):\n",
    "    \n",
    "    df = rating[]\n",
    "    \n",
    "    for rating in df_rating:\n",
    "        range_data = get_range_data(df_action, person)"
   ]
  },
  {
   "cell_type": "code",
   "execution_count": 108,
   "metadata": {},
   "outputs": [],
   "source": [
    "df = rating_data[rating_data['person_id'].isin(persons_known)]"
   ]
  },
  {
   "cell_type": "code",
   "execution_count": 131,
   "metadata": {},
   "outputs": [],
   "source": [
    "df = pd.DataFrame(columns=feature_labels)"
   ]
  },
  {
   "cell_type": "code",
   "execution_count": 136,
   "metadata": {},
   "outputs": [],
   "source": [
    "vals = np.arange(0, len(feature_labels))"
   ]
  },
  {
   "cell_type": "code",
   "execution_count": 39,
   "metadata": {},
   "outputs": [],
   "source": [
    "# Формируем матрицу признаков"
   ]
  },
  {
   "cell_type": "code",
   "execution_count": null,
   "metadata": {},
   "outputs": [],
   "source": [
    "# 1. Копируем из фрейма оценок\n",
    "\n"
   ]
  },
  {
   "cell_type": "code",
   "execution_count": null,
   "metadata": {},
   "outputs": [],
   "source": []
  },
  {
   "cell_type": "code",
   "execution_count": null,
   "metadata": {},
   "outputs": [],
   "source": []
  },
  {
   "cell_type": "code",
   "execution_count": null,
   "metadata": {},
   "outputs": [],
   "source": []
  },
  {
   "cell_type": "code",
   "execution_count": null,
   "metadata": {},
   "outputs": [],
   "source": []
  },
  {
   "cell_type": "code",
   "execution_count": null,
   "metadata": {},
   "outputs": [],
   "source": []
  },
  {
   "cell_type": "code",
   "execution_count": null,
   "metadata": {},
   "outputs": [],
   "source": []
  },
  {
   "cell_type": "markdown",
   "metadata": {},
   "source": [
    "---\n",
    "## Предсказываем оценки"
   ]
  },
  {
   "cell_type": "markdown",
   "metadata": {},
   "source": [
    "### Вариант 0. Предсказывать медианное значение по исходной выборке"
   ]
  },
  {
   "cell_type": "code",
   "execution_count": 96,
   "metadata": {},
   "outputs": [],
   "source": [
    "# выделим выборки целевых значений\n",
    "\n",
    "y_true = rating_data[rating_data['person_id'].isin(persons_known)]\n",
    "y_target = rating_data[rating_data['person_id'].isin(persons_unknown)]\n",
    "\n",
    "y_pred = y_true['Prediction1'].quantile(q=0.50) * np.ones(y_target.shape[0])\n",
    "answer_to_file(y_pred, y_target['Id'].values, 'baseline.csv')"
   ]
  },
  {
   "cell_type": "markdown",
   "metadata": {},
   "source": [
    "---\n",
    "### Вариант 1."
   ]
  },
  {
   "cell_type": "code",
   "execution_count": null,
   "metadata": {},
   "outputs": [],
   "source": []
  },
  {
   "cell_type": "code",
   "execution_count": null,
   "metadata": {},
   "outputs": [],
   "source": []
  },
  {
   "cell_type": "code",
   "execution_count": null,
   "metadata": {},
   "outputs": [],
   "source": []
  },
  {
   "cell_type": "code",
   "execution_count": null,
   "metadata": {},
   "outputs": [],
   "source": []
  },
  {
   "cell_type": "code",
   "execution_count": null,
   "metadata": {},
   "outputs": [],
   "source": []
  },
  {
   "cell_type": "code",
   "execution_count": null,
   "metadata": {},
   "outputs": [],
   "source": []
  },
  {
   "cell_type": "code",
   "execution_count": null,
   "metadata": {},
   "outputs": [],
   "source": []
  },
  {
   "cell_type": "code",
   "execution_count": null,
   "metadata": {},
   "outputs": [],
   "source": []
  },
  {
   "cell_type": "code",
   "execution_count": null,
   "metadata": {},
   "outputs": [],
   "source": []
  },
  {
   "cell_type": "code",
   "execution_count": 82,
   "metadata": {},
   "outputs": [],
   "source": []
  },
  {
   "cell_type": "code",
   "execution_count": null,
   "metadata": {},
   "outputs": [],
   "source": []
  },
  {
   "cell_type": "code",
   "execution_count": null,
   "metadata": {},
   "outputs": [],
   "source": []
  },
  {
   "cell_type": "code",
   "execution_count": null,
   "metadata": {},
   "outputs": [],
   "source": []
  },
  {
   "cell_type": "code",
   "execution_count": null,
   "metadata": {},
   "outputs": [],
   "source": []
  },
  {
   "cell_type": "markdown",
   "metadata": {},
   "source": [
    "---"
   ]
  },
  {
   "cell_type": "code",
   "execution_count": 11,
   "metadata": {},
   "outputs": [],
   "source": [
    "# разобьем выборку по временным интервалам между выставлениями оценок для каждого пользователя\n",
    "\n",
    "# интервалы времени между оценками по пользователю\n",
    "# возвращаем даты начала и окончания диапазона + Id записи\n",
    "\n",
    "def get_ranges(data, person):\n",
    "    ranges = []\n",
    "    df = data[data['person_id'] == person]\n",
    "    for idx in range(df.shape[0]):\n",
    "        start_date = end_date if (idx > 0) else (df.iloc[idx]['date'] - pd.to_timedelta('7 days'))\n",
    "        end_date = df.iloc[idx]['date']\n",
    "        ranges.append([start_date, end_date, df.iloc[idx]['Id']])\n",
    "    return ranges"
   ]
  },
  {
   "cell_type": "code",
   "execution_count": 12,
   "metadata": {},
   "outputs": [],
   "source": [
    "# данные фич по пользователю за заданный интервал времени\n",
    "# dates[0] - start date\n",
    "# dates[1] - end date\n",
    "\n",
    "def get_range_data(data, person, dates):\n",
    "    df = data[data['person_id'] == person]\n",
    "    mask = (df['date'] > dates[0]) & (df['date'] < dates[1])\n",
    "    return df[mask]"
   ]
  },
  {
   "cell_type": "code",
   "execution_count": 229,
   "metadata": {},
   "outputs": [],
   "source": [
    "# Усредняем каждую фичу за интервал между выставлениями оценок пользователем\n",
    "\n",
    "def data_mean(persons, targets, data):\n",
    "    X = []\n",
    "    Ids = []\n",
    "    for person in persons:\n",
    "        ranges = get_ranges(targets, person)\n",
    "        for ra in ranges:\n",
    "            da = get_range_data(data, person, ra)              \n",
    "            xa = da.mean() if not da.empty else 0\n",
    "            X.append(xa)\n",
    "    return [X, Ids]"
   ]
  },
  {
   "cell_type": "code",
   "execution_count": 1,
   "metadata": {},
   "outputs": [],
   "source": [
    "# взвешиваем каждую фичу за интервал между выставлениями оценок пользователем\n",
    "\n",
    "def data_weight(persons, targets, data):\n",
    "    pass"
   ]
  },
  {
   "cell_type": "markdown",
   "metadata": {},
   "source": [
    "---"
   ]
  },
  {
   "cell_type": "code",
   "execution_count": 230,
   "metadata": {},
   "outputs": [],
   "source": [
    "# Вариант 1. Усредняем каждую фичу за интервал между выставлениями оценок пользователем. Дальше - используем линейную регрессию\n",
    "\n",
    "# Добавляем вектор из единиц для коэффициента w0 линейной регрессии.\n",
    "df_data_scaler['bias'] = 1\n",
    "\n",
    "X_true = data_mean(known_persons, df_targets, df_data_scaler)\n",
    "X_target = data_mean(unknown_persons, df_targets, df_data_scaler)"
   ]
  },
  {
   "cell_type": "code",
   "execution_count": 226,
   "metadata": {},
   "outputs": [],
   "source": [
    "# удаляем оценки, по которым нет предшествующих данных\n",
    "\n",
    "#y_true = y_true.drop(y_true[y_true['Id'].isin(Ids_true)].index)\n",
    "#y_target = y_target.drop(y_target[y_target['Id'].isin(Ids_target)].index)"
   ]
  },
  {
   "cell_type": "code",
   "execution_count": 241,
   "metadata": {},
   "outputs": [
    {
     "ename": "TypeError",
     "evalue": "ufunc 'isnan' not supported for the input types, and the inputs could not be safely coerced to any supported types according to the casting rule ''safe''",
     "output_type": "error",
     "traceback": [
      "\u001b[1;31m---------------------------------------------------------------------------\u001b[0m",
      "\u001b[1;31mTypeError\u001b[0m                                 Traceback (most recent call last)",
      "\u001b[1;32m<ipython-input-241-72a44a1b89e5>\u001b[0m in \u001b[0;36m<module>\u001b[1;34m()\u001b[0m\n\u001b[0;32m      2\u001b[0m \u001b[1;33m\u001b[0m\u001b[0m\n\u001b[0;32m      3\u001b[0m \u001b[0mX_true\u001b[0m \u001b[1;33m=\u001b[0m \u001b[0mnp\u001b[0m\u001b[1;33m.\u001b[0m\u001b[0marray\u001b[0m\u001b[1;33m(\u001b[0m\u001b[0mX_true\u001b[0m\u001b[1;33m)\u001b[0m\u001b[1;33m\u001b[0m\u001b[0m\n\u001b[1;32m----> 4\u001b[1;33m \u001b[0mX_true\u001b[0m\u001b[1;33m[\u001b[0m\u001b[0mnp\u001b[0m\u001b[1;33m.\u001b[0m\u001b[0misnan\u001b[0m\u001b[1;33m(\u001b[0m\u001b[0mX_true\u001b[0m\u001b[1;33m)\u001b[0m\u001b[1;33m]\u001b[0m \u001b[1;33m=\u001b[0m \u001b[1;36m0\u001b[0m\u001b[1;33m\u001b[0m\u001b[0m\n\u001b[0m\u001b[0;32m      5\u001b[0m \u001b[1;33m\u001b[0m\u001b[0m\n\u001b[0;32m      6\u001b[0m \u001b[0mX_target\u001b[0m \u001b[1;33m=\u001b[0m \u001b[0mnp\u001b[0m\u001b[1;33m.\u001b[0m\u001b[0marray\u001b[0m\u001b[1;33m(\u001b[0m\u001b[0mX_target\u001b[0m\u001b[1;33m)\u001b[0m\u001b[1;33m\u001b[0m\u001b[0m\n",
      "\u001b[1;31mTypeError\u001b[0m: ufunc 'isnan' not supported for the input types, and the inputs could not be safely coerced to any supported types according to the casting rule ''safe''"
     ]
    }
   ],
   "source": [
    "# обнуляем пустые значения фич\n",
    "\n",
    "X_true = np.array(X_true)\n",
    "X_true[np.isnan(X_true)] = 0\n",
    "\n",
    "X_target = np.array(X_target)\n",
    "X_target[np.isnan(X_target)] = 0"
   ]
  },
  {
   "cell_type": "code",
   "execution_count": null,
   "metadata": {},
   "outputs": [],
   "source": [
    "from sklearn.model_selection import train_test_split\n",
    "from sklearn.model_selection import GridSearchCV\n",
    "from sklearn.metrics import accuracy_score"
   ]
  },
  {
   "cell_type": "code",
   "execution_count": 214,
   "metadata": {},
   "outputs": [],
   "source": [
    "X_train, X_test, y_train, y_test = train_test_split(X_true, y_true['Prediction1'].values, test_size=0.2, random_state=42)"
   ]
  },
  {
   "cell_type": "markdown",
   "metadata": {},
   "source": [
    "---\n",
    "Linear Regression"
   ]
  },
  {
   "cell_type": "code",
   "execution_count": 175,
   "metadata": {},
   "outputs": [],
   "source": [
    "from sklearn.linear_model import LinearRegression"
   ]
  },
  {
   "cell_type": "code",
   "execution_count": 192,
   "metadata": {},
   "outputs": [
    {
     "data": {
      "text/plain": [
       "LinearRegression(copy_X=True, fit_intercept=True, n_jobs=None,\n",
       "         normalize=False)"
      ]
     },
     "execution_count": 192,
     "metadata": {},
     "output_type": "execute_result"
    }
   ],
   "source": [
    "linear_reg = LinearRegression()\n",
    "linear_reg.fit(X_train, y_train)"
   ]
  },
  {
   "cell_type": "code",
   "execution_count": 193,
   "metadata": {},
   "outputs": [
    {
     "data": {
      "text/plain": [
       "-1.4209208003885672"
      ]
     },
     "execution_count": 193,
     "metadata": {},
     "output_type": "execute_result"
    }
   ],
   "source": [
    "linear_reg.score(X_test, y_test)"
   ]
  },
  {
   "cell_type": "code",
   "execution_count": 194,
   "metadata": {},
   "outputs": [],
   "source": [
    "y_pred = linear_reg.predict(X_target)"
   ]
  },
  {
   "cell_type": "code",
   "execution_count": 195,
   "metadata": {},
   "outputs": [
    {
     "data": {
      "text/plain": [
       "array([ 4.,  4.,  4.,  4.,  3.,  6.,  6.,  3.,  6.,  6.,  4.,  7.,  6.,\n",
       "        6.,  5.,  9., 10., 10.,  5.,  5.,  4.,  4.,  4.,  4.,  5.,  4.,\n",
       "        4.,  4.,  3.,  6.,  6.,  3.,  6.,  6.,  4.,  7.,  6.,  6.,  5.,\n",
       "        9., 10., 10.,  5.,  5.,  4.,  4.,  4.,  4.,  5.,  3.,  5.,  4.,\n",
       "        4.,  2.,  4.,  1.,  3.,  3.,  6.,  3.,  4.,  4.,  2.,  3.,  4.,\n",
       "        1.,  6.,  2.,  4.,  2.,  2.,  1.,  3.,  3.,  2.,  2.,  5.,  4.,\n",
       "        4.,  2.,  4.,  1.,  3.,  3.,  6.,  3.,  4.,  4.,  2.,  3.,  4.,\n",
       "        1.,  6.,  2.,  4.,  2.,  2.,  1.,  3.,  3.,  2.,  2., 10.,  2.,\n",
       "        4.,  2.,  3.,  4.,  4.,  7.,  5.,  3.,  0.,  4.,  1.,  2.,  3.,\n",
       "        2.,  5.,  3.,  3.,  3.,  4.,  4.,  4.,  5.,  4.,  4.,  2.,  4.,\n",
       "        2.,  3.,  4.,  4.,  7.,  5.,  3.,  0.,  4.,  1.,  2.,  3.,  2.,\n",
       "        5.,  3.,  3.,  3.,  4.,  4.,  4.,  5.,  4.,  4.])"
      ]
     },
     "execution_count": 195,
     "metadata": {},
     "output_type": "execute_result"
    }
   ],
   "source": [
    "y_pred.round()"
   ]
  },
  {
   "cell_type": "code",
   "execution_count": 74,
   "metadata": {},
   "outputs": [],
   "source": [
    "answer_to_file(y_pred, y_target['Id'].values, 'linear_regression.csv')"
   ]
  },
  {
   "cell_type": "markdown",
   "metadata": {},
   "source": [
    "---\n",
    "Random Forest Regressor"
   ]
  },
  {
   "cell_type": "code",
   "execution_count": 202,
   "metadata": {},
   "outputs": [],
   "source": [
    "from sklearn.ensemble import RandomForestRegressor\n",
    "from sklearn.model_selection import GridSearchCV"
   ]
  },
  {
   "cell_type": "code",
   "execution_count": 189,
   "metadata": {},
   "outputs": [
    {
     "name": "stderr",
     "output_type": "stream",
     "text": [
      "C:\\Users\\yushanov\\Anaconda3\\lib\\site-packages\\sklearn\\ensemble\\forest.py:246: FutureWarning: The default value of n_estimators will change from 10 in version 0.20 to 100 in 0.22.\n",
      "  \"10 in version 0.20 to 100 in 0.22.\", FutureWarning)\n"
     ]
    },
    {
     "data": {
      "text/plain": [
       "RandomForestRegressor(bootstrap=True, criterion='mse', max_depth=None,\n",
       "           max_features='auto', max_leaf_nodes=None,\n",
       "           min_impurity_decrease=0.0, min_impurity_split=None,\n",
       "           min_samples_leaf=1, min_samples_split=2,\n",
       "           min_weight_fraction_leaf=0.0, n_estimators=10, n_jobs=None,\n",
       "           oob_score=False, random_state=42, verbose=0, warm_start=False)"
      ]
     },
     "execution_count": 189,
     "metadata": {},
     "output_type": "execute_result"
    }
   ],
   "source": [
    "forest_reg = RandomForestRegressor(random_state=42)\n",
    "forest_reg.fit(X_train, y_train)"
   ]
  },
  {
   "cell_type": "code",
   "execution_count": 197,
   "metadata": {},
   "outputs": [
    {
     "data": {
      "text/plain": [
       "0.09767736821244544"
      ]
     },
     "execution_count": 197,
     "metadata": {},
     "output_type": "execute_result"
    }
   ],
   "source": [
    "forest_reg.score(X_test, y_test)"
   ]
  },
  {
   "cell_type": "code",
   "execution_count": null,
   "metadata": {},
   "outputs": [],
   "source": []
  },
  {
   "cell_type": "code",
   "execution_count": null,
   "metadata": {},
   "outputs": [],
   "source": []
  },
  {
   "cell_type": "markdown",
   "metadata": {},
   "source": [
    "---\n",
    "Gradient boosting"
   ]
  },
  {
   "cell_type": "code",
   "execution_count": 198,
   "metadata": {},
   "outputs": [],
   "source": [
    "from sklearn import ensemble\n",
    "from sklearn.ensemble import GradientBoostingRegressor"
   ]
  },
  {
   "cell_type": "code",
   "execution_count": null,
   "metadata": {},
   "outputs": [],
   "source": [
    "boost_reg = ensemble.GradientBoostingRegressor()\n",
    "\n",
    "param_grid = {'C': np.arange(1, 5), 'penalty': ['l1', 'l2']}\n",
    "\n",
    "search = GridSearchCV(logistic_reg, param_grid, n_jobs=-1, cv=5, refit=True, scoring='accuracy')\n",
    "search.fit(X_train, y_train)"
   ]
  },
  {
   "cell_type": "code",
   "execution_count": null,
   "metadata": {},
   "outputs": [],
   "source": []
  },
  {
   "cell_type": "code",
   "execution_count": null,
   "metadata": {},
   "outputs": [],
   "source": []
  },
  {
   "cell_type": "code",
   "execution_count": 199,
   "metadata": {},
   "outputs": [
    {
     "data": {
      "text/plain": [
       "GradientBoostingRegressor(alpha=0.9, criterion='friedman_mse', init=None,\n",
       "             learning_rate=0.1, loss='ls', max_depth=3, max_features=None,\n",
       "             max_leaf_nodes=None, min_impurity_decrease=0.0,\n",
       "             min_impurity_split=None, min_samples_leaf=1,\n",
       "             min_samples_split=2, min_weight_fraction_leaf=0.0,\n",
       "             n_estimators=100, n_iter_no_change=None, presort='auto',\n",
       "             random_state=None, subsample=1.0, tol=0.0001,\n",
       "             validation_fraction=0.1, verbose=0, warm_start=False)"
      ]
     },
     "execution_count": 199,
     "metadata": {},
     "output_type": "execute_result"
    }
   ],
   "source": [
    "boost_reg = ensemble.GradientBoostingRegressor()\n",
    "boost_reg.fit(X_train, y_train)"
   ]
  },
  {
   "cell_type": "code",
   "execution_count": 200,
   "metadata": {},
   "outputs": [
    {
     "data": {
      "text/plain": [
       "0.042049635747543834"
      ]
     },
     "execution_count": 200,
     "metadata": {},
     "output_type": "execute_result"
    }
   ],
   "source": [
    "boost_reg.score(X_test, y_test)"
   ]
  },
  {
   "cell_type": "code",
   "execution_count": null,
   "metadata": {},
   "outputs": [],
   "source": []
  },
  {
   "cell_type": "code",
   "execution_count": null,
   "metadata": {},
   "outputs": [],
   "source": []
  },
  {
   "cell_type": "markdown",
   "metadata": {},
   "source": [
    "---\n",
    "Logistic Regression"
   ]
  },
  {
   "cell_type": "code",
   "execution_count": 215,
   "metadata": {},
   "outputs": [],
   "source": [
    "from sklearn.linear_model import LogisticRegression"
   ]
  },
  {
   "cell_type": "code",
   "execution_count": 216,
   "metadata": {},
   "outputs": [
    {
     "name": "stderr",
     "output_type": "stream",
     "text": [
      "C:\\Users\\yushanov\\Anaconda3\\lib\\site-packages\\sklearn\\model_selection\\_search.py:841: DeprecationWarning: The default of the `iid` parameter will change from True to False in version 0.22 and will be removed in 0.24. This will change numeric results when test-set sizes are unequal.\n",
      "  DeprecationWarning)\n",
      "C:\\Users\\yushanov\\Anaconda3\\lib\\site-packages\\sklearn\\linear_model\\sag.py:334: ConvergenceWarning: The max_iter was reached which means the coef_ did not converge\n",
      "  \"the coef_ did not converge\", ConvergenceWarning)\n"
     ]
    },
    {
     "data": {
      "text/plain": [
       "GridSearchCV(cv=5, error_score='raise-deprecating',\n",
       "       estimator=LogisticRegression(C=1.0, class_weight=None, dual=False, fit_intercept=True,\n",
       "          intercept_scaling=1, max_iter=100, multi_class='multinomial',\n",
       "          n_jobs=None, penalty='l2', random_state=None, solver='saga',\n",
       "          tol=0.0001, verbose=0, warm_start=False),\n",
       "       fit_params=None, iid='warn', n_jobs=-1,\n",
       "       param_grid={'C': array([1, 2, 3, 4]), 'penalty': ['l1', 'l2']},\n",
       "       pre_dispatch='2*n_jobs', refit=True, return_train_score='warn',\n",
       "       scoring='accuracy', verbose=0)"
      ]
     },
     "execution_count": 216,
     "metadata": {},
     "output_type": "execute_result"
    }
   ],
   "source": [
    "logistic_reg = LogisticRegression(solver='saga', multi_class='multinomial')\n",
    "\n",
    "param_grid = {'C': np.arange(1, 5), 'penalty': ['l1', 'l2']}\n",
    "\n",
    "search = GridSearchCV(logistic_reg, param_grid, n_jobs=-1, cv=5, refit=True, scoring='accuracy')\n",
    "search.fit(X_train, y_train)"
   ]
  },
  {
   "cell_type": "code",
   "execution_count": 217,
   "metadata": {},
   "outputs": [
    {
     "data": {
      "text/plain": [
       "{'C': 1, 'penalty': 'l2'}"
      ]
     },
     "execution_count": 217,
     "metadata": {},
     "output_type": "execute_result"
    }
   ],
   "source": [
    "search.best_params_"
   ]
  },
  {
   "cell_type": "code",
   "execution_count": 205,
   "metadata": {},
   "outputs": [
    {
     "data": {
      "text/plain": [
       "0.9170731707317074"
      ]
     },
     "execution_count": 205,
     "metadata": {},
     "output_type": "execute_result"
    }
   ],
   "source": [
    "accuracy_score(y_train, search.best_estimator_.predict(X_train))"
   ]
  },
  {
   "cell_type": "code",
   "execution_count": 218,
   "metadata": {},
   "outputs": [
    {
     "name": "stderr",
     "output_type": "stream",
     "text": [
      "C:\\Users\\yushanov\\Anaconda3\\lib\\site-packages\\sklearn\\linear_model\\sag.py:334: ConvergenceWarning: The max_iter was reached which means the coef_ did not converge\n",
      "  \"the coef_ did not converge\", ConvergenceWarning)\n"
     ]
    }
   ],
   "source": [
    "logistic_reg = LogisticRegression(C=1, penalty='l2', solver='saga', multi_class='multinomial')\n",
    "logistic_reg.fit(X_train, y_train)\n",
    "pred_prob = logistic_reg.predict_proba(X_test)"
   ]
  },
  {
   "cell_type": "code",
   "execution_count": 219,
   "metadata": {},
   "outputs": [],
   "source": [
    "y_pred = logistic_reg.predict(X_target)"
   ]
  },
  {
   "cell_type": "code",
   "execution_count": 220,
   "metadata": {},
   "outputs": [],
   "source": [
    "answer_to_file(y_pred, y_target['Id'].values, 'logistic_regression.csv')"
   ]
  },
  {
   "cell_type": "code",
   "execution_count": null,
   "metadata": {},
   "outputs": [],
   "source": []
  },
  {
   "cell_type": "code",
   "execution_count": null,
   "metadata": {},
   "outputs": [],
   "source": []
  },
  {
   "cell_type": "code",
   "execution_count": null,
   "metadata": {},
   "outputs": [],
   "source": []
  },
  {
   "cell_type": "code",
   "execution_count": null,
   "metadata": {},
   "outputs": [],
   "source": []
  },
  {
   "cell_type": "code",
   "execution_count": null,
   "metadata": {},
   "outputs": [],
   "source": []
  },
  {
   "cell_type": "code",
   "execution_count": null,
   "metadata": {},
   "outputs": [],
   "source": []
  },
  {
   "cell_type": "code",
   "execution_count": null,
   "metadata": {},
   "outputs": [],
   "source": []
  },
  {
   "cell_type": "code",
   "execution_count": null,
   "metadata": {},
   "outputs": [],
   "source": []
  },
  {
   "cell_type": "code",
   "execution_count": null,
   "metadata": {},
   "outputs": [],
   "source": []
  },
  {
   "cell_type": "code",
   "execution_count": null,
   "metadata": {},
   "outputs": [],
   "source": []
  },
  {
   "cell_type": "code",
   "execution_count": null,
   "metadata": {},
   "outputs": [],
   "source": []
  },
  {
   "cell_type": "code",
   "execution_count": null,
   "metadata": {},
   "outputs": [],
   "source": []
  },
  {
   "cell_type": "code",
   "execution_count": null,
   "metadata": {},
   "outputs": [],
   "source": []
  },
  {
   "cell_type": "code",
   "execution_count": null,
   "metadata": {},
   "outputs": [],
   "source": []
  },
  {
   "cell_type": "code",
   "execution_count": 5,
   "metadata": {},
   "outputs": [],
   "source": [
    "# есть подозрение, что нужно пронормировать данные, но это не точно"
   ]
  },
  {
   "cell_type": "code",
   "execution_count": null,
   "metadata": {},
   "outputs": [],
   "source": []
  },
  {
   "cell_type": "code",
   "execution_count": null,
   "metadata": {},
   "outputs": [],
   "source": []
  },
  {
   "cell_type": "markdown",
   "metadata": {},
   "source": [
    "---"
   ]
  },
  {
   "cell_type": "code",
   "execution_count": 3,
   "metadata": {},
   "outputs": [],
   "source": [
    "# делаем one hot encoding, не знаю, насколько это здесь нужно"
   ]
  },
  {
   "cell_type": "code",
   "execution_count": 7,
   "metadata": {},
   "outputs": [],
   "source": [
    "for person in persons:\n",
    "    df_data[person] = pd.Series(data=(df_data['person_id'] == person).astype('float'), index=df_data.index)"
   ]
  },
  {
   "cell_type": "markdown",
   "metadata": {},
   "source": [
    "features"
   ]
  },
  {
   "cell_type": "code",
   "execution_count": 8,
   "metadata": {},
   "outputs": [],
   "source": [
    "X_labels = np.delete(df_data.columns.values, [0, 1])"
   ]
  },
  {
   "cell_type": "code",
   "execution_count": 9,
   "metadata": {},
   "outputs": [],
   "source": [
    "df_X = df_data[df_data['person_id'].isin(known_persons)]\n",
    "X = df_X[X_labels].values\n",
    "X[np.isnan(X)] = 0"
   ]
  },
  {
   "cell_type": "code",
   "execution_count": 10,
   "metadata": {},
   "outputs": [],
   "source": [
    "df_X_target = df_data[df_data['person_id'].isin(target_persons)]\n",
    "X_target = df_X_target[X_labels].values\n",
    "X_target[np.isnan(X_target)] = 0"
   ]
  },
  {
   "cell_type": "markdown",
   "metadata": {},
   "source": [
    "answers"
   ]
  },
  {
   "cell_type": "code",
   "execution_count": 11,
   "metadata": {},
   "outputs": [],
   "source": [
    "def get_prediction(person, date):\n",
    "    \n",
    "    df = df_predictions[df_predictions['person_id'] == person]\n",
    "    \n",
    "    for idx in range(df.shape[0]):\n",
    "        start_date = end_date if (idx > 0) else (df.iloc[idx]['date'] - pd.to_timedelta('7 days'))\n",
    "        end_date = df.iloc[idx]['date']\n",
    "        mask = (date > start_date) & (date <= end_date)\n",
    "        if mask:\n",
    "            return df.iloc[idx]['Prediction1'] \n",
    "    return 0"
   ]
  },
  {
   "cell_type": "code",
   "execution_count": 12,
   "metadata": {},
   "outputs": [],
   "source": [
    "y = np.zeros(X.shape[0])\n",
    "y_target = np.zeros(X_target.shape[0])"
   ]
  },
  {
   "cell_type": "code",
   "execution_count": 13,
   "metadata": {},
   "outputs": [],
   "source": [
    "for idx in range(X.shape[0]):\n",
    "    y[idx] = get_prediction(df_X.iloc[idx]['person_id'], df_X.iloc[idx]['date'])\n",
    "    #print('person = {}, date = {}, val = {}'.format(df_X.iloc[idx]['person_id'], df_X.iloc[idx]['date'], y[idx]))"
   ]
  },
  {
   "cell_type": "markdown",
   "metadata": {},
   "source": [
    "---"
   ]
  },
  {
   "cell_type": "code",
   "execution_count": 14,
   "metadata": {},
   "outputs": [],
   "source": [
    "from sklearn.model_selection import train_test_split\n",
    "from sklearn.model_selection import GridSearchCV\n",
    "from sklearn.linear_model import LogisticRegression\n",
    "from sklearn.neighbors import KNeighborsClassifier\n",
    "from sklearn.metrics import accuracy_score"
   ]
  },
  {
   "cell_type": "code",
   "execution_count": 15,
   "metadata": {},
   "outputs": [],
   "source": [
    "X_train, X_test, y_train, y_test = train_test_split(X, y, test_size=0.2, random_state=42)"
   ]
  },
  {
   "cell_type": "markdown",
   "metadata": {},
   "source": [
    "Logistic Regression"
   ]
  },
  {
   "cell_type": "code",
   "execution_count": 16,
   "metadata": {},
   "outputs": [
    {
     "name": "stderr",
     "output_type": "stream",
     "text": [
      "C:\\Users\\yushanov\\Anaconda3\\lib\\site-packages\\sklearn\\linear_model\\sag.py:334: ConvergenceWarning: The max_iter was reached which means the coef_ did not converge\n",
      "  \"the coef_ did not converge\", ConvergenceWarning)\n"
     ]
    },
    {
     "data": {
      "text/plain": [
       "GridSearchCV(cv=5, error_score='raise-deprecating',\n",
       "       estimator=LogisticRegression(C=1.0, class_weight=None, dual=False, fit_intercept=True,\n",
       "          intercept_scaling=1, max_iter=200, multi_class='multinomial',\n",
       "          n_jobs=None, penalty='l2', random_state=None, solver='saga',\n",
       "          tol=0.0001, verbose=0, warm_start=False),\n",
       "       fit_params=None, iid='warn', n_jobs=-1,\n",
       "       param_grid={'C': array([1, 2, 3, 4]), 'penalty': ['l1', 'l2']},\n",
       "       pre_dispatch='2*n_jobs', refit=True, return_train_score='warn',\n",
       "       scoring='accuracy', verbose=0)"
      ]
     },
     "execution_count": 16,
     "metadata": {},
     "output_type": "execute_result"
    }
   ],
   "source": [
    "clf = LogisticRegression(solver='saga', max_iter=200, multi_class='multinomial')\n",
    "\n",
    "param_grid = {'C': np.arange(1, 5), 'penalty': ['l1', 'l2']}\n",
    "\n",
    "search = GridSearchCV(clf, param_grid, n_jobs=-1, cv=5, refit=True, scoring='accuracy')\n",
    "search.fit(X_train, y_train)"
   ]
  },
  {
   "cell_type": "code",
   "execution_count": 17,
   "metadata": {},
   "outputs": [
    {
     "data": {
      "text/plain": [
       "{'C': 3, 'penalty': 'l2'}"
      ]
     },
     "execution_count": 17,
     "metadata": {},
     "output_type": "execute_result"
    }
   ],
   "source": [
    "search.best_params_"
   ]
  },
  {
   "cell_type": "code",
   "execution_count": 18,
   "metadata": {},
   "outputs": [
    {
     "data": {
      "text/plain": [
       "0.5635245901639344"
      ]
     },
     "execution_count": 18,
     "metadata": {},
     "output_type": "execute_result"
    }
   ],
   "source": [
    "accuracy_score(y_train, search.best_estimator_.predict(X_train))"
   ]
  },
  {
   "cell_type": "code",
   "execution_count": 24,
   "metadata": {},
   "outputs": [
    {
     "name": "stderr",
     "output_type": "stream",
     "text": [
      "C:\\Users\\yushanov\\Anaconda3\\lib\\site-packages\\sklearn\\linear_model\\sag.py:334: ConvergenceWarning: The max_iter was reached which means the coef_ did not converge\n",
      "  \"the coef_ did not converge\", ConvergenceWarning)\n"
     ]
    }
   ],
   "source": [
    "optimal_clf = LogisticRegression(C=3, penalty='l2', solver='saga', max_iter=200, multi_class='multinomial')\n",
    "optimal_clf.fit(X_train, y_train)\n",
    "pred_prob = optimal_clf.predict_proba(X_test)"
   ]
  },
  {
   "cell_type": "code",
   "execution_count": 25,
   "metadata": {},
   "outputs": [
    {
     "data": {
      "text/plain": [
       "array([[1.82303191e-03, 3.93654722e-02, 5.55126205e-02, 8.20919688e-01,\n",
       "        8.01838760e-02, 2.19531131e-03],\n",
       "       [4.78618194e-03, 8.15590737e-02, 3.25747731e-02, 2.02872916e-02,\n",
       "        7.94969185e-01, 6.58234950e-02],\n",
       "       [2.73111315e-04, 8.71674652e-03, 7.01162711e-01, 4.12115116e-02,\n",
       "        2.46791657e-01, 1.84426270e-03],\n",
       "       ...,\n",
       "       [1.28463536e-01, 2.54449341e-02, 1.27131907e-01, 6.32734254e-01,\n",
       "        5.36400920e-02, 3.25852765e-02],\n",
       "       [4.08065181e-03, 1.30562908e-02, 6.02840759e-01, 2.14474663e-01,\n",
       "        1.64015926e-01, 1.53170940e-03],\n",
       "       [3.79482808e-02, 3.37482089e-01, 1.89276665e-01, 2.04731216e-01,\n",
       "        1.96347207e-01, 3.42145424e-02]])"
      ]
     },
     "execution_count": 25,
     "metadata": {},
     "output_type": "execute_result"
    }
   ],
   "source": [
    "pred_prob"
   ]
  },
  {
   "cell_type": "markdown",
   "metadata": {},
   "source": [
    "---"
   ]
  },
  {
   "cell_type": "markdown",
   "metadata": {},
   "source": [
    "K-Neighbors Classifier"
   ]
  },
  {
   "cell_type": "code",
   "execution_count": 20,
   "metadata": {},
   "outputs": [
    {
     "name": "stderr",
     "output_type": "stream",
     "text": [
      "[Parallel(n_jobs=-1)]: Using backend LokyBackend with 8 concurrent workers.\n"
     ]
    },
    {
     "name": "stdout",
     "output_type": "stream",
     "text": [
      "Fitting 5 folds for each of 40 candidates, totalling 200 fits\n"
     ]
    },
    {
     "name": "stderr",
     "output_type": "stream",
     "text": [
      "[Parallel(n_jobs=-1)]: Done  16 tasks      | elapsed:    8.1s\n",
      "[Parallel(n_jobs=-1)]: Done 112 tasks      | elapsed:   52.4s\n",
      "[Parallel(n_jobs=-1)]: Done 200 out of 200 | elapsed:  1.5min finished\n"
     ]
    },
    {
     "data": {
      "text/plain": [
       "GridSearchCV(cv=5, error_score='raise-deprecating',\n",
       "       estimator=KNeighborsClassifier(algorithm='auto', leaf_size=30, metric='minkowski',\n",
       "           metric_params=None, n_jobs=None, n_neighbors=5, p=2,\n",
       "           weights='uniform'),\n",
       "       fit_params=None, iid='warn', n_jobs=-1,\n",
       "       param_grid={'weights': ['uniform', 'distance'], 'n_neighbors': array([10, 11, 12, 13, 14, 15, 16, 17, 18, 19]), 'metric': ['manhattan', 'euclidean']},\n",
       "       pre_dispatch='2*n_jobs', refit=True, return_train_score='warn',\n",
       "       scoring='accuracy', verbose=3)"
      ]
     },
     "execution_count": 20,
     "metadata": {},
     "output_type": "execute_result"
    }
   ],
   "source": [
    "clf = KNeighborsClassifier()\n",
    "\n",
    "param_grid = {'weights': ['uniform', 'distance'], 'n_neighbors': np.arange(10, 20), 'metric': ['manhattan', 'euclidean']}\n",
    "\n",
    "search = GridSearchCV(clf, param_grid, cv=5, scoring='accuracy', n_jobs=-1, verbose=3)\n",
    "search.fit(X_train, y_train)"
   ]
  },
  {
   "cell_type": "code",
   "execution_count": 21,
   "metadata": {},
   "outputs": [
    {
     "data": {
      "text/plain": [
       "{'metric': 'manhattan', 'n_neighbors': 13, 'weights': 'distance'}"
      ]
     },
     "execution_count": 21,
     "metadata": {},
     "output_type": "execute_result"
    }
   ],
   "source": [
    "search.best_params_"
   ]
  },
  {
   "cell_type": "code",
   "execution_count": 22,
   "metadata": {},
   "outputs": [],
   "source": [
    "optimal_clf = KNeighborsClassifier(n_neighbors=13, metric='manhattan', weights='distance')\n",
    "optimal_clf.fit(X_train, y_train)\n",
    "pred_prob = optimal_clf.predict_proba(X_test)"
   ]
  },
  {
   "cell_type": "code",
   "execution_count": 23,
   "metadata": {},
   "outputs": [
    {
     "data": {
      "text/plain": [
       "array([[0.        , 0.        , 0.        , 0.92900969, 0.07099031,\n",
       "        0.        ],\n",
       "       [0.07118421, 0.0733502 , 0.        , 0.        , 0.71389433,\n",
       "        0.14157125],\n",
       "       [0.        , 0.        , 0.76070257, 0.15971696, 0.07958047,\n",
       "        0.        ],\n",
       "       ...,\n",
       "       [0.15659164, 0.07815148, 0.15334241, 0.53662788, 0.07528658,\n",
       "        0.        ],\n",
       "       [0.        , 0.        , 0.46211895, 0.30677005, 0.23111101,\n",
       "        0.        ],\n",
       "       [0.159373  , 0.07960921, 0.15239564, 0.3808546 , 0.07592782,\n",
       "        0.15183974]])"
      ]
     },
     "execution_count": 23,
     "metadata": {},
     "output_type": "execute_result"
    }
   ],
   "source": [
    "pred_prob"
   ]
  },
  {
   "cell_type": "code",
   "execution_count": null,
   "metadata": {},
   "outputs": [],
   "source": []
  },
  {
   "cell_type": "code",
   "execution_count": null,
   "metadata": {},
   "outputs": [],
   "source": []
  },
  {
   "cell_type": "code",
   "execution_count": null,
   "metadata": {},
   "outputs": [],
   "source": []
  },
  {
   "cell_type": "code",
   "execution_count": null,
   "metadata": {},
   "outputs": [],
   "source": []
  },
  {
   "cell_type": "code",
   "execution_count": null,
   "metadata": {},
   "outputs": [],
   "source": []
  },
  {
   "cell_type": "code",
   "execution_count": null,
   "metadata": {},
   "outputs": [],
   "source": []
  },
  {
   "cell_type": "code",
   "execution_count": null,
   "metadata": {},
   "outputs": [],
   "source": []
  },
  {
   "cell_type": "code",
   "execution_count": null,
   "metadata": {},
   "outputs": [],
   "source": []
  },
  {
   "cell_type": "markdown",
   "metadata": {},
   "source": [
    "---"
   ]
  },
  {
   "cell_type": "code",
   "execution_count": null,
   "metadata": {},
   "outputs": [],
   "source": []
  },
  {
   "cell_type": "code",
   "execution_count": null,
   "metadata": {},
   "outputs": [],
   "source": []
  },
  {
   "cell_type": "code",
   "execution_count": null,
   "metadata": {},
   "outputs": [],
   "source": []
  }
 ],
 "metadata": {
  "kernelspec": {
   "display_name": "Python 3",
   "language": "python",
   "name": "python3"
  },
  "language_info": {
   "codemirror_mode": {
    "name": "ipython",
    "version": 3
   },
   "file_extension": ".py",
   "mimetype": "text/x-python",
   "name": "python",
   "nbconvert_exporter": "python",
   "pygments_lexer": "ipython3",
   "version": "3.7.0"
  }
 },
 "nbformat": 4,
 "nbformat_minor": 1
}
